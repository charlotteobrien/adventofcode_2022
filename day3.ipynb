{
 "cells": [
  {
   "cell_type": "code",
   "execution_count": 107,
   "metadata": {},
   "outputs": [
    {
     "name": "stdout",
     "output_type": "stream",
     "text": [
      "7872\n",
      "2497\n"
     ]
    }
   ],
   "source": [
    "import pandas as pd\n",
    "import numpy as np\n",
    "\n",
    "### PART 1 ###\n",
    "\n",
    "# import the data that I saved as a csv\n",
    "path = 'D:/'\n",
    "day3 = pd.read_csv(path + 'day3.csv', header = 0)\n",
    "\n",
    "\n",
    "# find number of items in backpack\n",
    "day3['items_in_backpack'] = day3[\"backpacks\"].str.len()\n",
    "\n",
    "\n",
    "# half length to see how many items should be in each compartment\n",
    "day3['compartment_size'] = day3['items_in_backpack']/2\n",
    "\n",
    "#changing the data type from float to int\n",
    "day3['compartment_size'] = day3['compartment_size'].astype(int)\n",
    "\n",
    "# splitting out the backpacks into each compartment\n",
    "day3['compartment_1']=day3.apply(lambda x: x['backpacks'][:len(x['backpacks'])-x['compartment_size']],axis = 1)\n",
    "day3['compartment_2']=day3.apply(lambda x: x['backpacks'][len(x['backpacks'])-x['compartment_size']:],axis = 1)\n",
    "\n",
    "# find common items in lists\n",
    "day3[\"common_letters\"] = day3.apply(\n",
    "    lambda x: set(x[\"compartment_1\"]).intersection(set(x[\"compartment_2\"])),\n",
    "    axis=1)\n",
    "\n",
    "# converting column to list so that I can unpack it\n",
    "a_list = day3[\"common_letters\"].tolist()\n",
    "\n",
    "# unpacking the sets to get a flat list\n",
    "mylist_n = [j for i in a_list for j in i]\n",
    "\n",
    "# creating a dictionary with the values for each letter\n",
    "value = dict(zip(\"abcdefghijklmnopqrstuvwxyzABCDEFGHIJKLMNOPQRSTUVWXYZ\", range(1,53)))\n",
    "\n",
    "# applying my dictionary to the letters to get a list of values\n",
    "values = [value[key] for key in mylist_n]\n",
    "\n",
    "#totalling the values to get final answer\n",
    "print(sum(values))\n",
    "\n",
    "### PART 2 ###\n",
    "# import fresh set of the data\n",
    "path = 'D:/'\n",
    "day3 = pd.read_csv(path + 'day3.csv', header = 0)\n",
    "\n",
    "# reshaping the data so each line of data represents a group with the cols referring to each elf in the group\n",
    "day3 = pd.DataFrame(day3.values.reshape(-1, 3), \n",
    "                    columns=['elf_1','elf_2','elf_3'])\n",
    "\n",
    "# finding common letters between elf 1 and elf 2\n",
    "day3[\"common_letters_1and2\"] = day3.apply(\n",
    "    lambda x: set(x[\"elf_1\"]).intersection(set(x[\"elf_2\"])),\n",
    "    axis=1)\n",
    "\n",
    "# finding the common letters between the ones found in elf 1 and elf 2 with letters in elf 3\n",
    "day3[\"common_letters_all\"] = day3.apply(\n",
    "    lambda x: set(x[\"common_letters_1and2\"]).intersection(set(x[\"elf_3\"])),\n",
    "    axis=1)    \n",
    "\n",
    "# converting column to list so that I can unpack it\n",
    "a_list = day3[\"common_letters_all\"].tolist()\n",
    "\n",
    "# unpacking the sets to get a flat list\n",
    "mylist_n = [j for i in a_list for j in i]\n",
    "\n",
    "# creating a dictionary with the values for each letter\n",
    "value = dict(zip(\"abcdefghijklmnopqrstuvwxyzABCDEFGHIJKLMNOPQRSTUVWXYZ\", range(1,53)))\n",
    "\n",
    "# applying my dictionary to the letters to get a list of values\n",
    "values = [value[key] for key in mylist_n]\n",
    "\n",
    "#totalling the values to get final answer\n",
    "print(sum(values))"
   ]
  },
  {
   "cell_type": "code",
   "execution_count": null,
   "metadata": {},
   "outputs": [],
   "source": []
  }
 ],
 "metadata": {
  "kernelspec": {
   "display_name": "base",
   "language": "python",
   "name": "python3"
  },
  "language_info": {
   "codemirror_mode": {
    "name": "ipython",
    "version": 3
   },
   "file_extension": ".py",
   "mimetype": "text/x-python",
   "name": "python",
   "nbconvert_exporter": "python",
   "pygments_lexer": "ipython3",
   "version": "3.6.1"
  },
  "orig_nbformat": 4,
  "vscode": {
   "interpreter": {
    "hash": "d207591e6ff77a7c5fb4cef0dd9fd3703274637a9d0902d2045beb3a65bf572a"
   }
  }
 },
 "nbformat": 4,
 "nbformat_minor": 2
}
