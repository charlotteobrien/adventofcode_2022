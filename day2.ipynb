{
 "cells": [
  {
   "cell_type": "code",
   "execution_count": 28,
   "metadata": {
    "collapsed": true
   },
   "outputs": [
    {
     "name": "stdout",
     "output_type": "stream",
     "text": [
      "13052\n"
     ]
    }
   ],
   "source": [
    "import pandas as pd\n",
    "import numpy as np\n",
    "\n",
    "# import the data that I saved as a csv\n",
    "path = 'D:/'\n",
    "day2 = pd.read_csv(path + 'day2_input.csv', header = 0)\n",
    "\n",
    "# slit the game games into two cols, one result that the opponant plays, one that I play\n",
    "day2[['opponant', 'you']] = day2['result'].str.split(' ', 1, expand=True)\n",
    "\n",
    "# create columns that hold the amount of points the player got for playing that option\n",
    "day2['opp_score'] = np.where(\n",
    "    day2['opponant'] == 'A', 1, np.where(\n",
    "        day2['opponant'] == 'B', 2, np.where(\n",
    "            day2['opponant'] == 'C', 3, 0)))\n",
    "\n",
    "day2['my_score'] = np.where(\n",
    "    day2['you'] == 'X', 1, np.where(\n",
    "        day2['you'] == 'Y', 2, np.where(\n",
    "            day2['you'] == 'Z', 3, 0)))\n",
    "\n",
    "# create column and populate with who wins the game based on the rules of the game\n",
    "day2['outcome'] = np.where((\n",
    "    ((day2['opp_score'] == 1) & (day2['my_score'] == 2)) |\n",
    "    ((day2['opp_score'] == 2) & (day2['my_score'] == 3)) | \n",
    "    ((day2['opp_score'] == 3) & (day2['my_score'] == 1))),\n",
    "    'i win',\n",
    "        np.where(\n",
    "            ((day2['opp_score'] == 1) & (day2['my_score'] == 1)) | \n",
    "            ((day2['opp_score'] == 2) & (day2['my_score'] == 2)) | \n",
    "            ((day2['opp_score'] == 3) & (day2['my_score'] == 3)),\n",
    "        'draw',         \n",
    "        np.where(\n",
    "            ((day2['opp_score'] == 1) & (day2['my_score'] == 3)) | \n",
    "            ((day2['opp_score'] == 2) & (day2['my_score'] == 1)) | \n",
    "            ((day2['opp_score'] == 3) & (day2['my_score'] == 2)),\n",
    "        'opp wins', 0))\n",
    ")\n",
    " \n",
    "# creating a column and allocating points to players based on the result of the game (6 for win, 3 or draw, 0 for loss)\n",
    "day2['opp_outcome'] = np.where(\n",
    "    day2['outcome'] == 'opp wins', 6, np.where(\n",
    "        day2['outcome'] == 'draw', 3, np.where(\n",
    "            day2['outcome'] == 'i win', 0, 0)))\n",
    "\n",
    "day2['my_outcome'] = np.where(\n",
    "    day2['outcome'] == 'opp wins', 0, np.where(\n",
    "        day2['outcome'] == 'draw', 3, np.where(\n",
    "            day2['outcome'] == 'i win', 6, 0)))\n",
    "\n",
    "# combining the score from the option they chose + the outcome of the game\n",
    "day2['opp_totalscore'] = day2['opp_score'] + day2['opp_outcome']\n",
    "day2['my_totalscore'] = day2['my_score'] + day2['my_outcome']\n",
    "\n",
    "# summing the total point that I achieved in the game\n",
    "my_sum = day2['my_totalscore'].sum()\n",
    "print(my_sum)"
   ]
  },
  {
   "attachments": {},
   "cell_type": "markdown",
   "metadata": {},
   "source": [
    "Part 2"
   ]
  },
  {
   "cell_type": "code",
   "execution_count": 29,
   "metadata": {},
   "outputs": [
    {
     "name": "stdout",
     "output_type": "stream",
     "text": [
      "13693\n"
     ]
    }
   ],
   "source": [
    "# creating another column for what the result should be\n",
    "day2['required_outcome'] = day2['you']\n",
    "\n",
    "# labeling the results\n",
    "day2['outcome_label'] = np.where(\n",
    "    day2['required_outcome'] == 'X', 'loss', np.where(\n",
    "        day2['required_outcome'] == 'Y', 'draw', np.where(\n",
    "            day2['required_outcome'] == 'Z', 'win', 0)))\n",
    "\n",
    "# allocating what the play should be based on the result\n",
    "day2['required_play'] = np.where((\n",
    "    ((day2['outcome_label'] == 'win') & (day2['opponant'] == 'A')) |\n",
    "    ((day2['outcome_label'] == 'draw') & (day2['opponant'] == 'B')) | \n",
    "    ((day2['outcome_label'] == 'loss') & (day2['opponant'] == 'C'))),\n",
    "    'paper',\n",
    "        np.where(\n",
    "            ((day2['outcome_label'] == 'win') & (day2['opponant'] == 'B')) | \n",
    "            ((day2['outcome_label'] == 'draw') & (day2['opponant'] == 'C')) | \n",
    "            ((day2['outcome_label'] == 'loss') & (day2['opponant'] == 'A')),\n",
    "        'scissors',         \n",
    "        np.where(\n",
    "            ((day2['outcome_label'] == 'win') & (day2['opponant'] == 'C')) | \n",
    "            ((day2['outcome_label'] == 'draw') & (day2['opponant'] == 'A')) | \n",
    "            ((day2['outcome_label'] == 'loss') & (day2['opponant'] == 'B')),\n",
    "        'rock', 0))\n",
    ")\n",
    "\n",
    "# create column that hold the amount of points I got for playing that option\n",
    "day2['my_score_2nd_rd'] = np.where(\n",
    "    day2['required_play'] == 'rock', 1, np.where(\n",
    "        day2['required_play'] == 'paper', 2, np.where(\n",
    "            day2['required_play'] == 'scissors', 3, 0)))\n",
    "\n",
    "# calculating my 2nd round outome points\n",
    "day2['2nd_rd_outcome'] = np.where(\n",
    "    day2['outcome_label'] == 'win', 6, np.where(\n",
    "        day2['outcome_label'] == 'draw', 3, np.where(\n",
    "            day2['outcome_label'] == 'loss', 0, 0)))\n",
    "\n",
    "# combining the score from the option I chose + the outcome of the game\n",
    "day2['totalscore_2nd_rd'] = day2['my_score_2nd_rd'] + day2['2nd_rd_outcome']\n",
    "\n",
    "# summing the total point that I achieved in the game\n",
    "my_sum = day2['totalscore_2nd_rd'].sum()\n",
    "print(my_sum)\n"
   ]
  },
  {
   "cell_type": "markdown",
   "metadata": {},
   "source": []
  }
 ],
 "metadata": {
  "kernelspec": {
   "display_name": "base",
   "language": "python",
   "name": "python3"
  },
  "language_info": {
   "codemirror_mode": {
    "name": "ipython",
    "version": 3
   },
   "file_extension": ".py",
   "mimetype": "text/x-python",
   "name": "python",
   "nbconvert_exporter": "python",
   "pygments_lexer": "ipython3",
   "version": "3.6.1"
  },
  "vscode": {
   "interpreter": {
    "hash": "d207591e6ff77a7c5fb4cef0dd9fd3703274637a9d0902d2045beb3a65bf572a"
   }
  }
 },
 "nbformat": 4,
 "nbformat_minor": 2
}
